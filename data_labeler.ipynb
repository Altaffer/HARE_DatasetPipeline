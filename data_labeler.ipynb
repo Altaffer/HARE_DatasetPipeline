{
 "cells": [
  {
   "cell_type": "code",
   "execution_count": 30,
   "metadata": {},
   "outputs": [],
   "source": [
    "# for cleaning up after tests\n",
    "import os\n",
    "dir = \"../calibrate/stacks/\"\n",
    "for f in os.listdir(dir):\n",
    "    if \".bin\" in f:\n",
    "        os.remove(os.path.join(dir, f))"
   ]
  },
  {
   "cell_type": "code",
   "execution_count": 31,
   "metadata": {},
   "outputs": [],
   "source": [
    "# setup the dirs and things\n",
    "import os\n",
    "from dataclasses import dataclass\n",
    "\n",
    "@dataclass\n",
    "class Dir:\n",
    "    path: str\n",
    "    date: str\n",
    "    bag: str = None\n",
    "    clicks: str = None\n",
    "root = \"../calibrate\"\n",
    "data_dirs = []\n",
    "dir_files = Dir(root, \"test\")\n",
    "dir_files.bag = os.path.join(root, \"rtk-co-locate.bag\")\n",
    "dir_files.clicks = os.path.join(root, \"rtk-clicks.csv\")\n",
    "data_dirs.append(dir_files)"
   ]
  },
  {
   "cell_type": "code",
   "execution_count": 32,
   "metadata": {},
   "outputs": [
    {
     "name": "stdout",
     "output_type": "stream",
     "text": [
      "[Dir(path='../calibrate', date='test', bag='../calibrate/rtk-co-locate.bag', clicks='../calibrate/rtk-clicks.csv')]\n"
     ]
    }
   ],
   "source": [
    "# %load_ext autoreload\n",
    "# %autoreload 2\n",
    "import rospy\n",
    "from banners import *\n",
    "import pdb \n",
    "from cv_bridge import CvBridge\n",
    "from sensor_msgs.msg import Image\n",
    "\n",
    "bridge = CvBridge()\n",
    "# from csv_relations import *\n",
    "# import csv_relations\n",
    "\n",
    "def done(fname, obj):\n",
    "    with open(fname, 'wb') as f:\n",
    "        pickle.dump(obj, f, protocol=2)\n",
    "\n",
    "# get all dirs with data and order by date\n",
    "'''\n",
    "data_dirs = []\n",
    "for dd in os.listdir(root):\n",
    "    d = os.path.join(root, dd)\n",
    "    print(d)\n",
    "    if os.path.isdir(d):\n",
    "        dir_files = Dir(d, dd)\n",
    "        for f in os.listdir(d):\n",
    "            if \".bag\" in f:\n",
    "                dir_files.bag = os.path.join(d, f)\n",
    "            if \".csv\" in f:\n",
    "                dir_files.clicks = os.path.join(d, f)\n",
    "        data_dirs.append(dir_files)\n",
    "'''\n",
    "print(data_dirs)\n",
    "\n",
    "TOPICS = ['/current_pose', '/cam0/nv12_decode_result', '/cam1/nv12_decode_result', '/therm/image_raw_throttle']\n",
    "cc = CameraCombo()\n",
    "i = 0\n",
    "# process each bag\n",
    "for a in data_dirs:\n",
    "    \n",
    "    bag = rosbag.Bag(a.bag)\n",
    "    for topic, msg, t in bag.read_messages(TOPICS):\n",
    "        cc.dir = a\n",
    "        # stack 3 images together\n",
    "        if topic == '/therm/image_raw_throttle':\n",
    "            # print(\"thermal\")\n",
    "            cc.flir = msg\n",
    "        if topic == '/cam1/nv12_decode_result':\n",
    "            # print(\"rgb\")\n",
    "            cc.rgb = msg\n",
    "\n",
    "        if topic == '/cam0/nv12_decode_result':\n",
    "            # print(\"noir\")\n",
    "            cc.noir = msg\n",
    "        if topic == \"/current_pose\":\n",
    "            # print(\"stacking\")\n",
    "            cc.pose = msg.pose.pose\n",
    "            cc.stack(t)\n",
    "            # i += 1\n",
    "            # if i == 10:\n",
    "            #     break\n",
    "    # processed_data.append(cc)\n",
    "    cc.done()"
   ]
  },
  {
   "cell_type": "code",
   "execution_count": 33,
   "metadata": {},
   "outputs": [],
   "source": [
    "%reload_ext autoreload\n",
    "%autoreload 2\n",
    "import csv_relations\n",
    "\n",
    "\n",
    "proc_click = []\n",
    "\n",
    "origin = None\n",
    "\n",
    "data_dirs[0].clicks = '../calibrate/rtk-click.csv'\n",
    "\n",
    "# go over the CSVs\n",
    "for a in data_dirs:\n",
    "    C = csv_relations.CSVAugmented(a.clicks, a.path)\n",
    "    C.csv_read()\n",
    "    C.done()\n",
    "    proc_click.append(C)"
   ]
  },
  {
   "cell_type": "code",
   "execution_count": 34,
   "metadata": {},
   "outputs": [
    {
     "name": "stdout",
     "output_type": "stream",
     "text": [
      "               x             y  health\n",
      "0  583843.180345  4.090570e+06     1.0\n",
      "[[-1.04066917e-01  7.33773690e-01 -6.71376384e-01  5.83841358e+05]\n",
      " [-9.64462757e-01 -2.39290806e-01 -1.12033479e-01  4.09057157e+06]\n",
      " [-2.42861415e-01  6.35858539e-01  7.32599652e-01  1.00000000e+01]\n",
      " [ 0.00000000e+00  0.00000000e+00  0.00000000e+00  1.00000000e+00]]\n"
     ]
    }
   ],
   "source": [
    "p = proc_click[0]\n",
    "print(p.click_data)\n",
    "print(cc.parsed.iloc[0].pose)"
   ]
  },
  {
   "cell_type": "code",
   "execution_count": 35,
   "metadata": {},
   "outputs": [
    {
     "ename": "ValueError",
     "evalue": "all the input arrays must have same number of dimensions, but the array at index 0 has 2 dimension(s) and the array at index 1 has 1 dimension(s)",
     "output_type": "error",
     "traceback": [
      "\u001b[0;31m---------------------------------------------------------------------------\u001b[0m",
      "\u001b[0;31mValueError\u001b[0m                                Traceback (most recent call last)",
      "Cell \u001b[0;32mIn [35], line 12\u001b[0m\n\u001b[1;32m     10\u001b[0m D\u001b[39m.\u001b[39mcc\u001b[39m.\u001b[39mdir \u001b[39m=\u001b[39m a\n\u001b[1;32m     11\u001b[0m D\u001b[39m.\u001b[39mcc\u001b[39m.\u001b[39muptake()\n\u001b[0;32m---> 12\u001b[0m relations \u001b[39m=\u001b[39m D\u001b[39m.\u001b[39;49mclicks_to_image(p, \u001b[39m55\u001b[39;49m)\n",
      "File \u001b[0;32m/media/usb0/dataset_pipeline/data_relater.py:42\u001b[0m, in \u001b[0;36mRelater.clicks_to_image\u001b[0;34m(self, clicks_o, FOV_angle)\u001b[0m\n\u001b[1;32m     40\u001b[0m health \u001b[39m=\u001b[39m pts[\u001b[39m'\u001b[39m\u001b[39mhealth\u001b[39m\u001b[39m'\u001b[39m]\n\u001b[1;32m     41\u001b[0m location \u001b[39m=\u001b[39m row[\u001b[39m'\u001b[39m\u001b[39msave_loc\u001b[39m\u001b[39m'\u001b[39m]\n\u001b[0;32m---> 42\u001b[0m pts \u001b[39m=\u001b[39m \u001b[39mself\u001b[39;49m\u001b[39m.\u001b[39;49mconvert_to_local(p, pts)\n\u001b[1;32m     43\u001b[0m \u001b[39mprint\u001b[39m(pts)\n\u001b[1;32m     44\u001b[0m pxs \u001b[39m=\u001b[39m \u001b[39mself\u001b[39m\u001b[39m.\u001b[39mfProject(pts, rbg_K)\n",
      "File \u001b[0;32m/media/usb0/dataset_pipeline/data_relater.py:53\u001b[0m, in \u001b[0;36mRelater.convert_to_local\u001b[0;34m(self, pose, pts)\u001b[0m\n\u001b[1;32m     51\u001b[0m p \u001b[39m=\u001b[39m np\u001b[39m.\u001b[39masarray(pts\u001b[39m.\u001b[39mloc[:,[\u001b[39m'\u001b[39m\u001b[39mx\u001b[39m\u001b[39m'\u001b[39m, \u001b[39m'\u001b[39m\u001b[39my\u001b[39m\u001b[39m'\u001b[39m]])\n\u001b[1;32m     52\u001b[0m p \u001b[39m=\u001b[39m p \u001b[39m-\u001b[39m np\u001b[39m.\u001b[39marray([pose[\u001b[39m0\u001b[39m,\u001b[39m3\u001b[39m], pose[\u001b[39m1\u001b[39m,\u001b[39m3\u001b[39m]])\n\u001b[0;32m---> 53\u001b[0m p \u001b[39m=\u001b[39m np\u001b[39m.\u001b[39;49mconcatenate((p, np\u001b[39m.\u001b[39;49marray([\u001b[39m1\u001b[39;49m])), axis\u001b[39m=\u001b[39;49m\u001b[39m0\u001b[39;49m)\n\u001b[1;32m     54\u001b[0m \u001b[39mreturn\u001b[39;00m np\u001b[39m.\u001b[39mlinalg\u001b[39m.\u001b[39minv(np\u001b[39m.\u001b[39marray(pose[:\u001b[39m3\u001b[39m,:\u001b[39m3\u001b[39m]))\u001b[39m@p\u001b[39m\n",
      "File \u001b[0;32m<__array_function__ internals>:180\u001b[0m, in \u001b[0;36mconcatenate\u001b[0;34m(*args, **kwargs)\u001b[0m\n",
      "\u001b[0;31mValueError\u001b[0m: all the input arrays must have same number of dimensions, but the array at index 0 has 2 dimension(s) and the array at index 1 has 1 dimension(s)"
     ]
    }
   ],
   "source": [
    "%reload_ext autoreload\n",
    "%autoreload 2\n",
    "import data_relater\n",
    "from banners import *\n",
    "\n",
    "relations = None\n",
    "\n",
    "D = data_relater.Relater()\n",
    "for a in data_dirs:\n",
    "    D.cc.dir = a\n",
    "    D.cc.uptake()\n",
    "    relations = D.clicks_to_image(p, 55)\n",
    "# D.cc.dir = \n",
    "# D.cc.uptake()\n",
    "# D.clicks_to_image(p, 55)"
   ]
  },
  {
   "cell_type": "code",
   "execution_count": null,
   ],
   "source": [
    "import pickle\n",
    "import cv2\n",
    "from sensor_msgs.msg import Image\n",
    "import numpy as np\n",
    "import matplotlib.pyplot as plt \n",
    "\n",
    "def pretty_image(df, idx):\n",
    "    row = df.iloc[idx]\n",
    "    with open(row['stack_location'], 'rb') as f:\n",
    "        stack = pickle.load(f)\n",
    "        rgb = bridge.imgmsg_to_cv2(stack['rgb'], desired_encoding='passthrough')\n",
    "        print(rgb.shape)\n",
    "        points = row['pixel_points']\n",
    "        print(points[0].item(), points[1])\n",
    "        rgb = cv2.circle(rgb, (int(points[0].item()), int(points[1].item())), 25, (0, 0, 255), 4)\n",
    "        plt.imshow(rgb)\n",
    "        \n",
    "print(relations.index)\n",
    "pretty_image(relations, 300)\n"
   ]
  },
  {
   "cell_type": "code",
   "execution_count": 9,
   "metadata": {},
   "outputs": [
    {
     "data": {
      "text/plain": [
       "<matplotlib.collections.PathCollection at 0x7f6de207c4f0>"
      ]
     },
     "execution_count": 9,
     "metadata": {},
     "output_type": "execute_result"
    },
    {
     "data": {
      "image/png": "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",
      "text/plain": [
       "<Figure size 640x480 with 1 Axes>"
      ]
     },
     "metadata": {},
     "output_type": "display_data"
    }
   ],
   "execution_count": null,
   "metadata": {},
   "outputs": [],
   "source": []
  }
 ],
 "metadata": {
  "kernelspec": {
   "display_name": "Python 3",
   "language": "python",
   "name": "python3"
  },
  "language_info": {
   "codemirror_mode": {
    "name": "ipython",
    "version": 3
   },
   "file_extension": ".py",
   "mimetype": "text/x-python",
   "name": "python",
   "nbconvert_exporter": "python",
   "pygments_lexer": "ipython3",
   "version": "3.8.10"
  },
  "orig_nbformat": 4,
  "vscode": {
   "interpreter": {
    "hash": "916dbcbb3f70747c44a77c7bcd40155683ae19c65e1c03b4aa3499c5328201f1"
   }
  }
 },
 "nbformat": 4,
 "nbformat_minor": 2
}
