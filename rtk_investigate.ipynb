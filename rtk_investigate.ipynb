{
 "cells": [
  {
   "cell_type": "code",
   "execution_count": 10,
   "metadata": {},
   "outputs": [],
   "source": [
    "import csv\n",
    "import utm\n",
    "proc_click = []\n",
    "raw = []\n",
    "\n",
    "path = '../calibrate/no-rtk-static-test.csv'\n",
    "with open(path) as clicks:\n",
    "    reader = csv.reader(clicks)\n",
    "    for line in reader:\n",
    "        if line[0] != 'LORA good':\n",
    "            # print(line)\n",
    "            if float(line[0]) > 0.0:\n",
    "                # breakdown line\n",
    "                u = utm.from_latlon(float(line[0]), float(line[1]))\n",
    "                # u = pm.geodetic2ned(float(line[0]), float(line[1]), float(line[2]), origin[0], origin[1], origin[2])\n",
    "                pt = [u[0], u[1]]\n",
    "                raw.append([float(line[0]), float(line[1])])\n",
    "                # print(u)\n",
    "                proc_click.append(pt)\n",
    "\n",
    "# print(proc_click)"
   ]
  },
  {
   "cell_type": "code",
   "execution_count": 11,
   "metadata": {},
   "outputs": [
    {
     "data": {
      "text/plain": [
       "<matplotlib.collections.PathCollection at 0x7f510a41ffd0>"
      ]
     },
     "execution_count": 11,
     "metadata": {},
     "output_type": "execute_result"
    },
    {
     "data": {
      "image/png": "[encoded data removed]",
      "text/plain": [
       "<Figure size 432x288 with 1 Axes>"
      ]
     },
     "metadata": {
      "needs_background": "light"
     },
     "output_type": "display_data"
    }
   ],
   "source": [
    "import matplotlib.pyplot as plt\n",
    "\n",
    "# print(proc_click[1:])\n",
    "x = list(list(zip(*proc_click))[0])\n",
    "y = list(list(zip(*proc_click))[1])\n",
    "\n",
    "# first = 11\n",
    "# print(x, y)\n",
    "\n",
    "plt.scatter(x, y)"
   ]
  },
  {
   "cell_type": "code",
   "execution_count": 12,
   "metadata": {},
   "outputs": [
    {
     "name": "stdout",
     "output_type": "stream",
     "text": [
      "[[ 583791.7032273  4090514.73697892]\n",
      " [ 583791.4629668  4090514.05448467]] [[  36.95698819 -122.05880868]\n",
      " [  36.95698206 -122.05881145]]\n"
     ]
    }
   ],
   "source": [
    "import numpy as np\n",
    "from scipy.cluster.vq import kmeans2\n",
    "ax = np.asarray(proc_click)\n",
    "ar = np.asarray(raw)\n",
    "centroid, label = kmeans2(ax, 2, minit='points')\n",
    "c2, l2 = kmeans2(ar, 2, minit='points')\n",
    "\n",
    "print(centroid, c2)"
   ]
  },
  {
   "cell_type": "code",
   "execution_count": 13,
   "metadata": {},
   "outputs": [
    {
     "name": "stdout",
     "output_type": "stream",
     "text": [
      "163\n",
      "[0.44530498 0.23433251]\n",
      "189\n",
      "[1.71915094e-06 2.40743160e-06]\n"
     ]
    },
    {
     "data": {
      "image/png": "[encoded data removed]",
      "text/plain": [
       "<Figure size 432x288 with 1 Axes>"
      ]
     },
     "metadata": {
      "needs_background": "light"
     },
     "output_type": "display_data"
    }
   ],
   "source": [
    "w0 = ax[label == 0]\n",
    "print(len(w0))\n",
    "print(np.std(w0, axis=0))\n",
    "w1 = ax[label == 1]\n",
    "print(len(w1)) # there are 2 erroneous measurments\n",
    "# w2 = ar[l2 == 0]\n",
    "# print(len(w2))\n",
    "w3 = ar[l2 == 1]\n",
    "magic_cm = 1e7\n",
    "print(np.std(w3, axis=0))\n",
    "\n",
    "\n",
    "\n",
    "\n",
    "# plt.plot(w0[:,0], w0[:, 1], 'o', alpha=0.75, label='cluster 0')\n",
    "# plt.plot(w1[:,0], w1[:, 1], 'd', alpha=0.75, label='cluster 1')\n",
    "# plt.plot(w2[:,0], w2[:, 1], 's', alpha=0.75, label='c2 0')\n",
    "plt.plot(w3[:,0], w3[:, 1], 'o', alpha=0.75, label='c2 1')\n",
    "# plt.plot(centroid[0,0], centroid[0, 1], 'k*', alpha=1, label='centroids')\n",
    "plt.plot(c2[1,0], c2[1, 1], 'k*', alpha=1, label='c2')\n",
    "# plt.axis('equal')\n",
    "plt.show()\n"
   ]
  },
  {
   "cell_type": "markdown",
   "metadata": {},
   "source": [
    "<h1>For future refrence</h1><br />\n",
    "With rtk accuracy std dev<br />\n",
    "[0.00747523 0.01168309] m (utm)<br />\n",
    "[1.05333429e-07 8.39099023e-08] deg (lat lon)<br />\n",
    "\n",
    "without rtk std dev<br />\n",
    "[0.44530498 0.23433251] m (utm)<br />\n",
    "[1.71915094e-06 2.40743160e-06] deg (lat lon)<br />"
   ]
  },
  {
   "cell_type": "markdown",
   "metadata": {},
   "source": [
    "\n"
   ]
  }
 ],
 "metadata": {
  "kernelspec": {
   "display_name": "Python 3",
   "language": "python",
   "name": "python3"
  },
  "language_info": {
   "codemirror_mode": {
    "name": "ipython",
    "version": 3
   },
   "file_extension": ".py",
   "mimetype": "text/x-python",
   "name": "python",
   "nbconvert_exporter": "python",
   "pygments_lexer": "ipython3",
   "version": "3.8.10"
  },
  "orig_nbformat": 4,
  "vscode": {
   "interpreter": {
    "hash": "916dbcbb3f70747c44a77c7bcd40155683ae19c65e1c03b4aa3499c5328201f1"
   }
  }
 },
 "nbformat": 4,
 "nbformat_minor": 2
}
