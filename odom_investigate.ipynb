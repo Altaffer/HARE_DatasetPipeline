{
 "cells": [
  {
   "cell_type": "code",
   "execution_count": 9,
   "metadata": {},
   "outputs": [],
   "source": [
    "import rosbag\n",
    "from geometry_msgs.msg import PoseWithCovariance\n",
    "import numpy as np\n",
    "# import pandas as pd\n",
    "TOPICS = ['/current_pose', '/dji_osdk_ros/height_above_takeoff']\n",
    "takeoff = False\n",
    "messages = []\n",
    "poses = []\n",
    "path = \"../calibrate/no-rtk-odom-augment.bag\"\n",
    "bag = rosbag.Bag(path)\n",
    "for topic, msg, t in bag.read_messages(TOPICS):\n",
    "    # if topic == '/dji_osdk_ros/height_above_takeoff' and takeoff == False:\n",
    "    #     if msg.data > :\n",
    "    #         takeoff = True\n",
    "    if topic == \"/current_pose\":\n",
    "        messages.append(msg.pose)\n",
    "        poses.append([msg.pose.pose.position.x, msg.pose.pose.position.y])\n",
    "\n",
    "data = np.asarray(poses)\n"
   ]
  },
  {
   "cell_type": "code",
   "execution_count": 43,
   "metadata": {},
   "outputs": [
    {
     "name": "stdout",
     "output_type": "stream",
     "text": [
      "(1634, 2)\n",
      "absolute drift (m): [1.21301856 9.7946717 ]\n"
     ]
    },
    {
     "data": {
      "image/png": "[encoded data removed]",
      "text/plain": [
       "<Figure size 432x288 with 1 Axes>"
      ]
     },
     "metadata": {
      "needs_background": "light"
     },
     "output_type": "display_data"
    }
   ],
   "source": [
    "import matplotlib.pyplot as plt\n",
    "print(data.shape)\n",
    "start = 42\n",
    "plt.scatter(data[start:,0], data[start:,1])\n",
    "print(\"absolute drift (m):\", abs(data[start] - data[data.shape[0]-1]))"
   ]
  },
  {
   "cell_type": "code",
   "execution_count": 44,
   "metadata": {},
   "outputs": [
    {
     "name": "stdout",
     "output_type": "stream",
     "text": [
      "1233.9087830229219\n"
     ]
    }
   ],
   "source": [
    "distance = 0\n",
    "for i in range(start,data.shape[0]-2):\n",
    "    d = abs(np.linalg.norm(data[i] - data[i+1]))\n",
    "    # print(d)\n",
    "    distance += d\n",
    "\n",
    "print(distance)"
   ]
  },
  {
   "cell_type": "markdown",
   "metadata": {},
   "source": [
    "<h1>For future refrence</h1><br />\n",
    "With rtk odom accuracy<br />\n",
    "[0.14870916 0.06873147] m (utm)<br />\n",
    "over a distance of 682.4439588989059 m<br />\n",
    "\n",
    "without rtk odom accuracy<br />\n",
    "[1.21301856 9.7946717 ] m (utm)<br />\n",
    "over a distance of 1233.9087830229219 m<br />"
   ]
  },
  {
   "cell_type": "code",
   "execution_count": 47,
   "metadata": {},
   "outputs": [
    {
     "name": "stdout",
     "output_type": "stream",
     "text": [
      "[0.00021791 0.00010071] [0.00098307 0.00793792]\n",
      "no rtk is [0.00076516 0.00783721] worse per m traveled\n"
     ]
    }
   ],
   "source": [
    "rtk_error = np.array([0.14870916, 0.06873147])\n",
    "rtk_dist = 682.4439588989059\n",
    "\n",
    "error = np.array([1.21301856, 9.7946717 ])\n",
    "dist = 1233.9087830229219\n",
    "\n",
    "print(rtk_error/rtk_dist , error/dist)\n",
    "bad_rtk = rtk_error / rtk_dist\n",
    "bad = error / dist\n",
    "\n",
    "print(\"no rtk is\", bad - bad_rtk, \"worse per m traveled\")"
   ]
  },
  {
   "cell_type": "code",
   "execution_count": null,
   "metadata": {},
   "outputs": [],
   "source": []
  }
 ],
 "metadata": {
  "kernelspec": {
   "display_name": "Python 3",
   "language": "python",
   "name": "python3"
  },
  "language_info": {
   "codemirror_mode": {
    "name": "ipython",
    "version": 3
   },
   "file_extension": ".py",
   "mimetype": "text/x-python",
   "name": "python",
   "nbconvert_exporter": "python",
   "pygments_lexer": "ipython3",
   "version": "3.8.10"
  },
  "orig_nbformat": 4,
  "vscode": {
   "interpreter": {
    "hash": "916dbcbb3f70747c44a77c7bcd40155683ae19c65e1c03b4aa3499c5328201f1"
   }
  }
 },
 "nbformat": 4,
 "nbformat_minor": 2
}
