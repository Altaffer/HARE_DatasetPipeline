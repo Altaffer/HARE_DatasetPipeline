{
 "cells": [
  {
   "cell_type": "code",
   "execution_count": 1,
   "metadata": {},
   "outputs": [
    {
     "name": "stdout",
     "output_type": "stream",
     "text": [
      "('../calibrate/stacks/rgb/img_1678168006.636201301.png',)\n",
      "('../calibrate/stacks/rgb/img_1678168006.878902088.png',)\n",
      "('../calibrate/stacks/rgb/img_1678168007.73929575.png',)\n",
      "('../calibrate/stacks/rgb/img_1678168007.286237989.png',)\n",
      "('../calibrate/stacks/rgb/img_1678168007.489479009.png',)\n",
      "average distance error 536.6569318105659\n"
     ]
    }
   ],
   "source": [
    "from banners_mk2 import *\n",
    "\n",
    "A = Analyzer('the_next_day', 25, '../calibrate', \"rtk-co-locate.bag\", \"rtk-co-locate-click.csv\")\n",
    "A.verifyFlight()\n",
    "A.doTheRoar()"
   ]
  },
  {
   "cell_type": "code",
   "execution_count": null,
   "metadata": {},
   "outputs": [],
   "source": []
  }
 ],
 "metadata": {
  "kernelspec": {
   "display_name": "Python 3",
   "language": "python",
   "name": "python3"
  },
  "language_info": {
   "codemirror_mode": {
    "name": "ipython",
    "version": 3
   },
   "file_extension": ".py",
   "mimetype": "text/x-python",
   "name": "python",
   "nbconvert_exporter": "python",
   "pygments_lexer": "ipython3",
   "version": "3.8.10"
  },
  "orig_nbformat": 4
 },
 "nbformat": 4,
 "nbformat_minor": 2
}
